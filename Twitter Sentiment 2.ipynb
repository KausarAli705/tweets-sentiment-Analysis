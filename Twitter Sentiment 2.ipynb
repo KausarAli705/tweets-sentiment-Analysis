{
 "cells": [
  {
   "cell_type": "markdown",
   "metadata": {},
   "source": [
    "## Importing important dependances "
   ]
  },
  {
   "cell_type": "code",
   "execution_count": 53,
   "metadata": {},
   "outputs": [
    {
     "name": "stdout",
     "output_type": "stream",
     "text": [
      "hello\n"
     ]
    }
   ],
   "source": [
    "import pandas as pd\n",
    "import numpy as np\n",
    "from sklearn.feature_extraction.text import CountVectorizer\n",
    "from sklearn.model_selection import train_test_split\n",
    "from sklearn.tree import DecisionTreeClassifier\n",
    "import re\n",
    "import nltk\n",
    "print(\"hello\")\n"
   ]
  },
  {
   "cell_type": "markdown",
   "metadata": {},
   "source": [
    "## reading csv file"
   ]
  },
  {
   "cell_type": "code",
   "execution_count": 54,
   "metadata": {},
   "outputs": [
    {
     "data": {
      "text/html": [
       "<div>\n",
       "<style scoped>\n",
       "    .dataframe tbody tr th:only-of-type {\n",
       "        vertical-align: middle;\n",
       "    }\n",
       "\n",
       "    .dataframe tbody tr th {\n",
       "        vertical-align: top;\n",
       "    }\n",
       "\n",
       "    .dataframe thead th {\n",
       "        text-align: right;\n",
       "    }\n",
       "</style>\n",
       "<table border=\"1\" class=\"dataframe\">\n",
       "  <thead>\n",
       "    <tr style=\"text-align: right;\">\n",
       "      <th></th>\n",
       "      <th>Unnamed: 0</th>\n",
       "      <th>Unnamed: 0.1</th>\n",
       "      <th>Unnamed: 0.1.1</th>\n",
       "      <th>Names</th>\n",
       "      <th>Tweets</th>\n",
       "      <th>Locations</th>\n",
       "    </tr>\n",
       "  </thead>\n",
       "  <tbody>\n",
       "    <tr>\n",
       "      <td>0</td>\n",
       "      <td>0</td>\n",
       "      <td>0</td>\n",
       "      <td>0</td>\n",
       "      <td>Afiali9</td>\n",
       "      <td>@RehamKhan1 Haha received by 4 people and happ...</td>\n",
       "      <td>NaN</td>\n",
       "    </tr>\n",
       "    <tr>\n",
       "      <td>1</td>\n",
       "      <td>1</td>\n",
       "      <td>1</td>\n",
       "      <td>1</td>\n",
       "      <td>GirlPrestigious</td>\n",
       "      <td>Pakistan pushed to danger zone by Traitors … Y...</td>\n",
       "      <td>Toronto, Ontario</td>\n",
       "    </tr>\n",
       "    <tr>\n",
       "      <td>2</td>\n",
       "      <td>2</td>\n",
       "      <td>2</td>\n",
       "      <td>2</td>\n",
       "      <td>Faria_Khan_</td>\n",
       "      <td>Wow! Mardan has turned out! #MarchAgainstlmpor...</td>\n",
       "      <td>NaN</td>\n",
       "    </tr>\n",
       "    <tr>\n",
       "      <td>3</td>\n",
       "      <td>3</td>\n",
       "      <td>3</td>\n",
       "      <td>3</td>\n",
       "      <td>Shoaibska</td>\n",
       "      <td>@OryaMaqboolJan True \\n #امپورٹڈ_حکومت_نامنظور</td>\n",
       "      <td>San Francisco, CA</td>\n",
       "    </tr>\n",
       "    <tr>\n",
       "      <td>4</td>\n",
       "      <td>4</td>\n",
       "      <td>4</td>\n",
       "      <td>4</td>\n",
       "      <td>beena_681</td>\n",
       "      <td>@ChannFaqeer @rafique5522 @PTIofficial Mr Faqe...</td>\n",
       "      <td>Croydon, London</td>\n",
       "    </tr>\n",
       "    <tr>\n",
       "      <td>...</td>\n",
       "      <td>...</td>\n",
       "      <td>...</td>\n",
       "      <td>...</td>\n",
       "      <td>...</td>\n",
       "      <td>...</td>\n",
       "      <td>...</td>\n",
       "    </tr>\n",
       "    <tr>\n",
       "      <td>164969</td>\n",
       "      <td>164969</td>\n",
       "      <td>49995</td>\n",
       "      <td>49995</td>\n",
       "      <td>Zain_Ul_Abadeen</td>\n",
       "      <td>@tayyabsecret Wrong hashtag\\n\\n#امپورٹڈ_حکومت_...</td>\n",
       "      <td>Pakistan</td>\n",
       "    </tr>\n",
       "    <tr>\n",
       "      <td>164970</td>\n",
       "      <td>164970</td>\n",
       "      <td>49996</td>\n",
       "      <td>49996</td>\n",
       "      <td>SohailM56161493</td>\n",
       "      <td>@RehamKhan1 You should be ashamed of yourself ...</td>\n",
       "      <td>NaN</td>\n",
       "    </tr>\n",
       "    <tr>\n",
       "      <td>164971</td>\n",
       "      <td>164971</td>\n",
       "      <td>49997</td>\n",
       "      <td>49997</td>\n",
       "      <td>ObaidAw3007</td>\n",
       "      <td>Look who followed me😍\\nThank you @KazmiWajahat...</td>\n",
       "      <td>Chakwal, Pakistan</td>\n",
       "    </tr>\n",
       "    <tr>\n",
       "      <td>164972</td>\n",
       "      <td>164972</td>\n",
       "      <td>49998</td>\n",
       "      <td>49998</td>\n",
       "      <td>RansWasi</td>\n",
       "      <td>@GovtofPakistan Crime Minister Not Accepted 🚫\\...</td>\n",
       "      <td>Multan, Pakistan</td>\n",
       "    </tr>\n",
       "    <tr>\n",
       "      <td>164973</td>\n",
       "      <td>164973</td>\n",
       "      <td>49999</td>\n",
       "      <td>49999</td>\n",
       "      <td>Zain_Ul_Abadeen</td>\n",
       "      <td>@Abdullahtanhap2 @mws_9221 Wrong hashtag\\n\\n#ا...</td>\n",
       "      <td>Pakistan</td>\n",
       "    </tr>\n",
       "  </tbody>\n",
       "</table>\n",
       "<p>164974 rows × 6 columns</p>\n",
       "</div>"
      ],
      "text/plain": [
       "        Unnamed: 0  Unnamed: 0.1  Unnamed: 0.1.1            Names  \\\n",
       "0                0             0               0          Afiali9   \n",
       "1                1             1               1  GirlPrestigious   \n",
       "2                2             2               2      Faria_Khan_   \n",
       "3                3             3               3        Shoaibska   \n",
       "4                4             4               4        beena_681   \n",
       "...            ...           ...             ...              ...   \n",
       "164969      164969         49995           49995  Zain_Ul_Abadeen   \n",
       "164970      164970         49996           49996  SohailM56161493   \n",
       "164971      164971         49997           49997      ObaidAw3007   \n",
       "164972      164972         49998           49998         RansWasi   \n",
       "164973      164973         49999           49999  Zain_Ul_Abadeen   \n",
       "\n",
       "                                                   Tweets          Locations  \n",
       "0       @RehamKhan1 Haha received by 4 people and happ...                NaN  \n",
       "1       Pakistan pushed to danger zone by Traitors … Y...   Toronto, Ontario  \n",
       "2       Wow! Mardan has turned out! #MarchAgainstlmpor...                NaN  \n",
       "3          @OryaMaqboolJan True \\n #امپورٹڈ_حکومت_نامنظور  San Francisco, CA  \n",
       "4       @ChannFaqeer @rafique5522 @PTIofficial Mr Faqe...    Croydon, London  \n",
       "...                                                   ...                ...  \n",
       "164969  @tayyabsecret Wrong hashtag\\n\\n#امپورٹڈ_حکومت_...           Pakistan  \n",
       "164970  @RehamKhan1 You should be ashamed of yourself ...                NaN  \n",
       "164971  Look who followed me😍\\nThank you @KazmiWajahat...  Chakwal, Pakistan  \n",
       "164972  @GovtofPakistan Crime Minister Not Accepted 🚫\\...   Multan, Pakistan  \n",
       "164973  @Abdullahtanhap2 @mws_9221 Wrong hashtag\\n\\n#ا...           Pakistan  \n",
       "\n",
       "[164974 rows x 6 columns]"
      ]
     },
     "execution_count": 54,
     "metadata": {},
     "output_type": "execute_result"
    }
   ],
   "source": [
    "data = pd.read_csv(r\"C:\\Users\\Kausar Ali\\tweetcsv\\newMergeDF2.csv\")\n",
    "data"
   ]
  },
  {
   "cell_type": "code",
   "execution_count": 55,
   "metadata": {},
   "outputs": [
    {
     "data": {
      "text/plain": [
       "0         @RehamKhan1 Haha received by 4 people and happ...\n",
       "1         Pakistan pushed to danger zone by Traitors … Y...\n",
       "2         Wow! Mardan has turned out! #MarchAgainstlmpor...\n",
       "3            @OryaMaqboolJan True \\n #امپورٹڈ_حکومت_نامنظور\n",
       "4         @ChannFaqeer @rafique5522 @PTIofficial Mr Faqe...\n",
       "                                ...                        \n",
       "164969    @tayyabsecret Wrong hashtag\\n\\n#امپورٹڈ_حکومت_...\n",
       "164970    @RehamKhan1 You should be ashamed of yourself ...\n",
       "164971    Look who followed me😍\\nThank you @KazmiWajahat...\n",
       "164972    @GovtofPakistan Crime Minister Not Accepted 🚫\\...\n",
       "164973    @Abdullahtanhap2 @mws_9221 Wrong hashtag\\n\\n#ا...\n",
       "Name: Tweets, Length: 164974, dtype: object"
      ]
     },
     "execution_count": 55,
     "metadata": {},
     "output_type": "execute_result"
    }
   ],
   "source": [
    "data['Tweets']"
   ]
  },
  {
   "cell_type": "code",
   "execution_count": 57,
   "metadata": {},
   "outputs": [],
   "source": [
    "df1=data"
   ]
  },
  {
   "cell_type": "markdown",
   "metadata": {},
   "source": [
    "# data preprocessing"
   ]
  },
  {
   "cell_type": "markdown",
   "metadata": {},
   "source": [
    "### Removing unnecessary columns"
   ]
  },
  {
   "cell_type": "code",
   "execution_count": 61,
   "metadata": {},
   "outputs": [],
   "source": [
    "data.drop([\"Unnamed: 0\",\"Unnamed: 0.1\",\"Unnamed: 0.1.1\"], axis=1, inplace=True)\n"
   ]
  },
  {
   "cell_type": "code",
   "execution_count": 62,
   "metadata": {},
   "outputs": [
    {
     "data": {
      "text/html": [
       "<div>\n",
       "<style scoped>\n",
       "    .dataframe tbody tr th:only-of-type {\n",
       "        vertical-align: middle;\n",
       "    }\n",
       "\n",
       "    .dataframe tbody tr th {\n",
       "        vertical-align: top;\n",
       "    }\n",
       "\n",
       "    .dataframe thead th {\n",
       "        text-align: right;\n",
       "    }\n",
       "</style>\n",
       "<table border=\"1\" class=\"dataframe\">\n",
       "  <thead>\n",
       "    <tr style=\"text-align: right;\">\n",
       "      <th></th>\n",
       "      <th>Names</th>\n",
       "      <th>Tweets</th>\n",
       "      <th>Locations</th>\n",
       "    </tr>\n",
       "  </thead>\n",
       "  <tbody>\n",
       "    <tr>\n",
       "      <td>0</td>\n",
       "      <td>Afiali9</td>\n",
       "      <td>@RehamKhan1 Haha received by 4 people and happ...</td>\n",
       "      <td>NaN</td>\n",
       "    </tr>\n",
       "    <tr>\n",
       "      <td>1</td>\n",
       "      <td>GirlPrestigious</td>\n",
       "      <td>Pakistan pushed to danger zone by Traitors … Y...</td>\n",
       "      <td>Toronto, Ontario</td>\n",
       "    </tr>\n",
       "    <tr>\n",
       "      <td>2</td>\n",
       "      <td>Faria_Khan_</td>\n",
       "      <td>Wow! Mardan has turned out! #MarchAgainstlmpor...</td>\n",
       "      <td>NaN</td>\n",
       "    </tr>\n",
       "    <tr>\n",
       "      <td>3</td>\n",
       "      <td>Shoaibska</td>\n",
       "      <td>@OryaMaqboolJan True \\n #امپورٹڈ_حکومت_نامنظور</td>\n",
       "      <td>San Francisco, CA</td>\n",
       "    </tr>\n",
       "    <tr>\n",
       "      <td>4</td>\n",
       "      <td>beena_681</td>\n",
       "      <td>@ChannFaqeer @rafique5522 @PTIofficial Mr Faqe...</td>\n",
       "      <td>Croydon, London</td>\n",
       "    </tr>\n",
       "  </tbody>\n",
       "</table>\n",
       "</div>"
      ],
      "text/plain": [
       "             Names                                             Tweets  \\\n",
       "0          Afiali9  @RehamKhan1 Haha received by 4 people and happ...   \n",
       "1  GirlPrestigious  Pakistan pushed to danger zone by Traitors … Y...   \n",
       "2      Faria_Khan_  Wow! Mardan has turned out! #MarchAgainstlmpor...   \n",
       "3        Shoaibska     @OryaMaqboolJan True \\n #امپورٹڈ_حکومت_نامنظور   \n",
       "4        beena_681  @ChannFaqeer @rafique5522 @PTIofficial Mr Faqe...   \n",
       "\n",
       "           Locations  \n",
       "0                NaN  \n",
       "1   Toronto, Ontario  \n",
       "2                NaN  \n",
       "3  San Francisco, CA  \n",
       "4    Croydon, London  "
      ]
     },
     "execution_count": 62,
     "metadata": {},
     "output_type": "execute_result"
    }
   ],
   "source": [
    "data.head()"
   ]
  },
  {
   "cell_type": "markdown",
   "metadata": {},
   "source": [
    "### Dealing with missing values"
   ]
  },
  {
   "cell_type": "code",
   "execution_count": 63,
   "metadata": {},
   "outputs": [
    {
     "data": {
      "text/plain": [
       "Names            0\n",
       "Tweets           0\n",
       "Locations    69216\n",
       "dtype: int64"
      ]
     },
     "execution_count": 63,
     "metadata": {},
     "output_type": "execute_result"
    }
   ],
   "source": [
    "data.isnull().sum()"
   ]
  },
  {
   "cell_type": "code",
   "execution_count": 64,
   "metadata": {},
   "outputs": [
    {
     "data": {
      "text/plain": [
       "Pakistan               8564\n",
       "Lahore, Pakistan       5850\n",
       "Karachi, Pakistan      4876\n",
       "Islamabad, Pakistan    4624\n",
       "London, England        2820\n",
       "                       ... \n",
       "Easter Island             2\n",
       "ISLAMABADPAKISTAN         2\n",
       "Kyiv, Ukraine             2\n",
       "Kashmir                   2\n",
       "PK/UK                     2\n",
       "Name: Locations, Length: 4066, dtype: int64"
      ]
     },
     "execution_count": 64,
     "metadata": {},
     "output_type": "execute_result"
    }
   ],
   "source": [
    "data['Locations'].value_counts()"
   ]
  },
  {
   "cell_type": "code",
   "execution_count": 65,
   "metadata": {},
   "outputs": [],
   "source": [
    "data[\"Locations\"].replace(to_replace=np.nan, value=\"Lahore\", inplace=True)"
   ]
  },
  {
   "cell_type": "code",
   "execution_count": 66,
   "metadata": {},
   "outputs": [
    {
     "data": {
      "text/html": [
       "<div>\n",
       "<style scoped>\n",
       "    .dataframe tbody tr th:only-of-type {\n",
       "        vertical-align: middle;\n",
       "    }\n",
       "\n",
       "    .dataframe tbody tr th {\n",
       "        vertical-align: top;\n",
       "    }\n",
       "\n",
       "    .dataframe thead th {\n",
       "        text-align: right;\n",
       "    }\n",
       "</style>\n",
       "<table border=\"1\" class=\"dataframe\">\n",
       "  <thead>\n",
       "    <tr style=\"text-align: right;\">\n",
       "      <th></th>\n",
       "      <th>Names</th>\n",
       "      <th>Tweets</th>\n",
       "      <th>Locations</th>\n",
       "    </tr>\n",
       "  </thead>\n",
       "  <tbody>\n",
       "    <tr>\n",
       "      <td>0</td>\n",
       "      <td>Afiali9</td>\n",
       "      <td>@RehamKhan1 Haha received by 4 people and happ...</td>\n",
       "      <td>Lahore</td>\n",
       "    </tr>\n",
       "    <tr>\n",
       "      <td>1</td>\n",
       "      <td>GirlPrestigious</td>\n",
       "      <td>Pakistan pushed to danger zone by Traitors … Y...</td>\n",
       "      <td>Toronto, Ontario</td>\n",
       "    </tr>\n",
       "    <tr>\n",
       "      <td>2</td>\n",
       "      <td>Faria_Khan_</td>\n",
       "      <td>Wow! Mardan has turned out! #MarchAgainstlmpor...</td>\n",
       "      <td>Lahore</td>\n",
       "    </tr>\n",
       "    <tr>\n",
       "      <td>3</td>\n",
       "      <td>Shoaibska</td>\n",
       "      <td>@OryaMaqboolJan True \\n #امپورٹڈ_حکومت_نامنظور</td>\n",
       "      <td>San Francisco, CA</td>\n",
       "    </tr>\n",
       "    <tr>\n",
       "      <td>4</td>\n",
       "      <td>beena_681</td>\n",
       "      <td>@ChannFaqeer @rafique5522 @PTIofficial Mr Faqe...</td>\n",
       "      <td>Croydon, London</td>\n",
       "    </tr>\n",
       "    <tr>\n",
       "      <td>...</td>\n",
       "      <td>...</td>\n",
       "      <td>...</td>\n",
       "      <td>...</td>\n",
       "    </tr>\n",
       "    <tr>\n",
       "      <td>164969</td>\n",
       "      <td>Zain_Ul_Abadeen</td>\n",
       "      <td>@tayyabsecret Wrong hashtag\\n\\n#امپورٹڈ_حکومت_...</td>\n",
       "      <td>Pakistan</td>\n",
       "    </tr>\n",
       "    <tr>\n",
       "      <td>164970</td>\n",
       "      <td>SohailM56161493</td>\n",
       "      <td>@RehamKhan1 You should be ashamed of yourself ...</td>\n",
       "      <td>Lahore</td>\n",
       "    </tr>\n",
       "    <tr>\n",
       "      <td>164971</td>\n",
       "      <td>ObaidAw3007</td>\n",
       "      <td>Look who followed me😍\\nThank you @KazmiWajahat...</td>\n",
       "      <td>Chakwal, Pakistan</td>\n",
       "    </tr>\n",
       "    <tr>\n",
       "      <td>164972</td>\n",
       "      <td>RansWasi</td>\n",
       "      <td>@GovtofPakistan Crime Minister Not Accepted 🚫\\...</td>\n",
       "      <td>Multan, Pakistan</td>\n",
       "    </tr>\n",
       "    <tr>\n",
       "      <td>164973</td>\n",
       "      <td>Zain_Ul_Abadeen</td>\n",
       "      <td>@Abdullahtanhap2 @mws_9221 Wrong hashtag\\n\\n#ا...</td>\n",
       "      <td>Pakistan</td>\n",
       "    </tr>\n",
       "  </tbody>\n",
       "</table>\n",
       "<p>164974 rows × 3 columns</p>\n",
       "</div>"
      ],
      "text/plain": [
       "                  Names                                             Tweets  \\\n",
       "0               Afiali9  @RehamKhan1 Haha received by 4 people and happ...   \n",
       "1       GirlPrestigious  Pakistan pushed to danger zone by Traitors … Y...   \n",
       "2           Faria_Khan_  Wow! Mardan has turned out! #MarchAgainstlmpor...   \n",
       "3             Shoaibska     @OryaMaqboolJan True \\n #امپورٹڈ_حکومت_نامنظور   \n",
       "4             beena_681  @ChannFaqeer @rafique5522 @PTIofficial Mr Faqe...   \n",
       "...                 ...                                                ...   \n",
       "164969  Zain_Ul_Abadeen  @tayyabsecret Wrong hashtag\\n\\n#امپورٹڈ_حکومت_...   \n",
       "164970  SohailM56161493  @RehamKhan1 You should be ashamed of yourself ...   \n",
       "164971      ObaidAw3007  Look who followed me😍\\nThank you @KazmiWajahat...   \n",
       "164972         RansWasi  @GovtofPakistan Crime Minister Not Accepted 🚫\\...   \n",
       "164973  Zain_Ul_Abadeen  @Abdullahtanhap2 @mws_9221 Wrong hashtag\\n\\n#ا...   \n",
       "\n",
       "                Locations  \n",
       "0                  Lahore  \n",
       "1        Toronto, Ontario  \n",
       "2                  Lahore  \n",
       "3       San Francisco, CA  \n",
       "4         Croydon, London  \n",
       "...                   ...  \n",
       "164969           Pakistan  \n",
       "164970             Lahore  \n",
       "164971  Chakwal, Pakistan  \n",
       "164972   Multan, Pakistan  \n",
       "164973           Pakistan  \n",
       "\n",
       "[164974 rows x 3 columns]"
      ]
     },
     "execution_count": 66,
     "metadata": {},
     "output_type": "execute_result"
    }
   ],
   "source": [
    "data"
   ]
  },
  {
   "cell_type": "code",
   "execution_count": 67,
   "metadata": {},
   "outputs": [
    {
     "data": {
      "text/plain": [
       "Lahore                 70392\n",
       "Pakistan                8564\n",
       "Lahore, Pakistan        5850\n",
       "Karachi, Pakistan       4876\n",
       "Islamabad, Pakistan     4624\n",
       "                       ...  \n",
       "Easter Island              2\n",
       "ISLAMABADPAKISTAN          2\n",
       "Kyiv, Ukraine              2\n",
       "Kashmir                    2\n",
       "PK/UK                      2\n",
       "Name: Locations, Length: 4066, dtype: int64"
      ]
     },
     "execution_count": 67,
     "metadata": {},
     "output_type": "execute_result"
    }
   ],
   "source": [
    "data['Locations'].value_counts()"
   ]
  },
  {
   "cell_type": "markdown",
   "metadata": {},
   "source": [
    "# tweets"
   ]
  },
  {
   "cell_type": "code",
   "execution_count": 73,
   "metadata": {},
   "outputs": [
    {
     "data": {
      "text/plain": [
       "0         @RehamKhan1 Haha received by 4 people and happ...\n",
       "1         Pakistan pushed to danger zone by Traitors … Y...\n",
       "2         Wow! Mardan has turned out! #MarchAgainstlmpor...\n",
       "3            @OryaMaqboolJan True \\n #امپورٹڈ_حکومت_نامنظور\n",
       "4         @ChannFaqeer @rafique5522 @PTIofficial Mr Faqe...\n",
       "                                ...                        \n",
       "164969    @tayyabsecret Wrong hashtag\\n\\n#امپورٹڈ_حکومت_...\n",
       "164970    @RehamKhan1 You should be ashamed of yourself ...\n",
       "164971    Look who followed me😍\\nThank you @KazmiWajahat...\n",
       "164972    @GovtofPakistan Crime Minister Not Accepted 🚫\\...\n",
       "164973    @Abdullahtanhap2 @mws_9221 Wrong hashtag\\n\\n#ا...\n",
       "Name: Tweets, Length: 164974, dtype: object"
      ]
     },
     "execution_count": 73,
     "metadata": {},
     "output_type": "execute_result"
    }
   ],
   "source": [
    "df['Tweets']"
   ]
  },
  {
   "cell_type": "markdown",
   "metadata": {},
   "source": [
    "## cleaning Tweets"
   ]
  },
  {
   "cell_type": "code",
   "execution_count": 69,
   "metadata": {},
   "outputs": [
    {
     "name": "stderr",
     "output_type": "stream",
     "text": [
      "[nltk_data] Downloading package stopwords to C:\\Users\\Kausar\n",
      "[nltk_data]     Ali\\AppData\\Roaming\\nltk_data...\n",
      "[nltk_data]   Package stopwords is already up-to-date!\n"
     ]
    }
   ],
   "source": [
    "nltk.download('stopwords')\n",
    "stemmer = nltk.SnowballStemmer(\"english\")\n",
    "from nltk.corpus import stopwords\n",
    "import string\n",
    "stopword=set(stopwords.words('english'))\n",
    "\n",
    "def clean(text):\n",
    "    text = str(text).lower()\n",
    "    text = re.sub('\\[.*?\\]', '', text)\n",
    "    text = re.sub('https?://\\S+|www\\.\\S+', '', text)\n",
    "    text = re.sub('<.*?>+', '', text)\n",
    "    text = re.sub('[%s]' % re.escape(string.punctuation), '', text)\n",
    "    text = re.sub('\\n', '', text)\n",
    "    text = re.sub('\\w*\\d\\w*', '', text)\n",
    "    text = [word for word in text.split(' ') if word not in stopword]\n",
    "    text=\" \".join(text)\n",
    "    text = [stemmer.stem(word) for word in text.split(' ')]\n",
    "    text=\" \".join(text)\n",
    "    return text\n",
    "data[\"Tweets\"] = data[\"Tweets\"].apply(clean)"
   ]
  },
  {
   "cell_type": "code",
   "execution_count": 70,
   "metadata": {},
   "outputs": [
    {
     "data": {
      "text/plain": [
       "0          haha receiv  peopl happili share video joker ...\n",
       "1         pakistan push danger zone traitor … ya allah r...\n",
       "2         wow mardan turn marchagainstlmportedgovt امپور...\n",
       "3                  oryamaqbooljan true  امپورٹڈحکومتنامنظور\n",
       "4         channfaq  ptioffici mr faqeer chanim free citi...\n",
       "                                ...                        \n",
       "164969    tayyabsecret wrong hashtagامپورٹڈحکومتنامنظورا...\n",
       "164970     asham unfortun cheap characterامپورٹڈحکومتنام...\n",
       "164971    look follow me😍thank kazmiwajahat امپورٹڈحکومت...\n",
       "164972    govtofpakistan crime minist accept 🚫امپورٹڈحکو...\n",
       "164973      wrong hashtagامپورٹڈحکومتنامنظورالیکشنکمشنرن...\n",
       "Name: Tweets, Length: 164974, dtype: object"
      ]
     },
     "execution_count": 70,
     "metadata": {},
     "output_type": "execute_result"
    }
   ],
   "source": [
    "data[\"Tweets\"]"
   ]
  },
  {
   "cell_type": "markdown",
   "metadata": {},
   "source": [
    "### with sentimentIntensityAnalyzer we are giving score to each tweets"
   ]
  },
  {
   "cell_type": "code",
   "execution_count": 74,
   "metadata": {},
   "outputs": [
    {
     "name": "stderr",
     "output_type": "stream",
     "text": [
      "[nltk_data] Downloading package vader_lexicon to C:\\Users\\Kausar\n",
      "[nltk_data]     Ali\\AppData\\Roaming\\nltk_data...\n",
      "[nltk_data]   Package vader_lexicon is already up-to-date!\n"
     ]
    }
   ],
   "source": [
    "from nltk.sentiment.vader import SentimentIntensityAnalyzer\n",
    "nltk.download('vader_lexicon')\n",
    "sentiments = SentimentIntensityAnalyzer()\n",
    "data[\"Positive\"] = [sentiments.polarity_scores(i)[\"pos\"] for i in data[\"Tweets\"]]\n",
    "data[\"Negative\"] = [sentiments.polarity_scores(i)[\"neg\"] for i in data[\"Tweets\"]]\n",
    "data[\"Neutral\"] = [sentiments.polarity_scores(i)[\"neu\"] for i in data[\"Tweets\"]]"
   ]
  },
  {
   "cell_type": "markdown",
   "metadata": {},
   "source": [
    "### Displaying tweets regrading positve, negative, neutral columns"
   ]
  },
  {
   "cell_type": "code",
   "execution_count": 76,
   "metadata": {},
   "outputs": [
    {
     "name": "stdout",
     "output_type": "stream",
     "text": [
      "                                              Tweets  Positive  Negative  \\\n",
      "0   haha receiv  peopl happili share video joker ...     0.528     0.000   \n",
      "1  pakistan push danger zone traitor … ya allah r...     0.000     0.254   \n",
      "2  wow mardan turn marchagainstlmportedgovt امپور...     0.487     0.000   \n",
      "3           oryamaqbooljan true  امپورٹڈحکومتنامنظور     0.583     0.000   \n",
      "4  channfaq  ptioffici mr faqeer chanim free citi...     0.126     0.107   \n",
      "\n",
      "   Neutral  \n",
      "0    0.472  \n",
      "1    0.746  \n",
      "2    0.513  \n",
      "3    0.417  \n",
      "4    0.766  \n"
     ]
    }
   ],
   "source": [
    "data = data[[\"Tweets\", \"Positive\", \n",
    "             \"Negative\", \"Neutral\"]]\n",
    "print(data.head())"
   ]
  },
  {
   "cell_type": "code",
   "execution_count": 94,
   "metadata": {},
   "outputs": [
    {
     "data": {
      "text/html": [
       "<div>\n",
       "<style scoped>\n",
       "    .dataframe tbody tr th:only-of-type {\n",
       "        vertical-align: middle;\n",
       "    }\n",
       "\n",
       "    .dataframe tbody tr th {\n",
       "        vertical-align: top;\n",
       "    }\n",
       "\n",
       "    .dataframe thead th {\n",
       "        text-align: right;\n",
       "    }\n",
       "</style>\n",
       "<table border=\"1\" class=\"dataframe\">\n",
       "  <thead>\n",
       "    <tr style=\"text-align: right;\">\n",
       "      <th></th>\n",
       "      <th>Tweets</th>\n",
       "      <th>Positive</th>\n",
       "      <th>Negative</th>\n",
       "      <th>Neutral</th>\n",
       "    </tr>\n",
       "  </thead>\n",
       "  <tbody>\n",
       "    <tr>\n",
       "      <td>0</td>\n",
       "      <td>haha receiv  peopl happili share video joker ...</td>\n",
       "      <td>0.528</td>\n",
       "      <td>0.000</td>\n",
       "      <td>0.472</td>\n",
       "    </tr>\n",
       "    <tr>\n",
       "      <td>1</td>\n",
       "      <td>pakistan push danger zone traitor … ya allah r...</td>\n",
       "      <td>0.000</td>\n",
       "      <td>0.254</td>\n",
       "      <td>0.746</td>\n",
       "    </tr>\n",
       "    <tr>\n",
       "      <td>2</td>\n",
       "      <td>wow mardan turn marchagainstlmportedgovt امپور...</td>\n",
       "      <td>0.487</td>\n",
       "      <td>0.000</td>\n",
       "      <td>0.513</td>\n",
       "    </tr>\n",
       "    <tr>\n",
       "      <td>3</td>\n",
       "      <td>oryamaqbooljan true  امپورٹڈحکومتنامنظور</td>\n",
       "      <td>0.583</td>\n",
       "      <td>0.000</td>\n",
       "      <td>0.417</td>\n",
       "    </tr>\n",
       "    <tr>\n",
       "      <td>4</td>\n",
       "      <td>channfaq  ptioffici mr faqeer chanim free citi...</td>\n",
       "      <td>0.126</td>\n",
       "      <td>0.107</td>\n",
       "      <td>0.766</td>\n",
       "    </tr>\n",
       "    <tr>\n",
       "      <td>...</td>\n",
       "      <td>...</td>\n",
       "      <td>...</td>\n",
       "      <td>...</td>\n",
       "      <td>...</td>\n",
       "    </tr>\n",
       "    <tr>\n",
       "      <td>164969</td>\n",
       "      <td>tayyabsecret wrong hashtagامپورٹڈحکومتنامنظورا...</td>\n",
       "      <td>0.000</td>\n",
       "      <td>0.608</td>\n",
       "      <td>0.392</td>\n",
       "    </tr>\n",
       "    <tr>\n",
       "      <td>164970</td>\n",
       "      <td>asham unfortun cheap characterامپورٹڈحکومتنام...</td>\n",
       "      <td>0.000</td>\n",
       "      <td>0.000</td>\n",
       "      <td>1.000</td>\n",
       "    </tr>\n",
       "    <tr>\n",
       "      <td>164971</td>\n",
       "      <td>look follow me😍thank kazmiwajahat امپورٹڈحکومت...</td>\n",
       "      <td>0.000</td>\n",
       "      <td>0.000</td>\n",
       "      <td>1.000</td>\n",
       "    </tr>\n",
       "    <tr>\n",
       "      <td>164972</td>\n",
       "      <td>govtofpakistan crime minist accept 🚫امپورٹڈحکو...</td>\n",
       "      <td>0.286</td>\n",
       "      <td>0.385</td>\n",
       "      <td>0.330</td>\n",
       "    </tr>\n",
       "    <tr>\n",
       "      <td>164973</td>\n",
       "      <td>wrong hashtagامپورٹڈحکومتنامنظورالیکشنکمشنرن...</td>\n",
       "      <td>0.000</td>\n",
       "      <td>0.756</td>\n",
       "      <td>0.244</td>\n",
       "    </tr>\n",
       "  </tbody>\n",
       "</table>\n",
       "<p>164974 rows × 4 columns</p>\n",
       "</div>"
      ],
      "text/plain": [
       "                                                   Tweets  Positive  Negative  \\\n",
       "0        haha receiv  peopl happili share video joker ...     0.528     0.000   \n",
       "1       pakistan push danger zone traitor … ya allah r...     0.000     0.254   \n",
       "2       wow mardan turn marchagainstlmportedgovt امپور...     0.487     0.000   \n",
       "3                oryamaqbooljan true  امپورٹڈحکومتنامنظور     0.583     0.000   \n",
       "4       channfaq  ptioffici mr faqeer chanim free citi...     0.126     0.107   \n",
       "...                                                   ...       ...       ...   \n",
       "164969  tayyabsecret wrong hashtagامپورٹڈحکومتنامنظورا...     0.000     0.608   \n",
       "164970   asham unfortun cheap characterامپورٹڈحکومتنام...     0.000     0.000   \n",
       "164971  look follow me😍thank kazmiwajahat امپورٹڈحکومت...     0.000     0.000   \n",
       "164972  govtofpakistan crime minist accept 🚫امپورٹڈحکو...     0.286     0.385   \n",
       "164973    wrong hashtagامپورٹڈحکومتنامنظورالیکشنکمشنرن...     0.000     0.756   \n",
       "\n",
       "        Neutral  \n",
       "0         0.472  \n",
       "1         0.746  \n",
       "2         0.513  \n",
       "3         0.417  \n",
       "4         0.766  \n",
       "...         ...  \n",
       "164969    0.392  \n",
       "164970    1.000  \n",
       "164971    1.000  \n",
       "164972    0.330  \n",
       "164973    0.244  \n",
       "\n",
       "[164974 rows x 4 columns]"
      ]
     },
     "execution_count": 94,
     "metadata": {},
     "output_type": "execute_result"
    }
   ],
   "source": [
    "data"
   ]
  },
  {
   "cell_type": "markdown",
   "metadata": {},
   "source": [
    "### separating each row with sentiment_score function \n",
    "### to Positive, negative, neutral"
   ]
  },
  {
   "cell_type": "code",
   "execution_count": 77,
   "metadata": {},
   "outputs": [
    {
     "name": "stdout",
     "output_type": "stream",
     "text": [
      "Neutral 🙂 \n"
     ]
    }
   ],
   "source": [
    "x = sum(data[\"Positive\"])\n",
    "y = sum(data[\"Negative\"])\n",
    "z = sum(data[\"Neutral\"])\n",
    "\n",
    "def sentiment_score(a, b, c):\n",
    "    if (a>b) and (a>c):\n",
    "        print(\"Positive 😊 \")\n",
    "    elif (b>a) and (b>c):\n",
    "        print(\"Negative 😠 \")\n",
    "    else:\n",
    "        print(\"Neutral 🙂 \")\n",
    "sentiment_score(x, y, z)"
   ]
  },
  {
   "cell_type": "code",
   "execution_count": 78,
   "metadata": {},
   "outputs": [
    {
     "name": "stdout",
     "output_type": "stream",
     "text": [
      "Positive:  19221.909999999672\n",
      "Negative:  9940.682000000026\n",
      "Neutral:  135779.61400000073\n"
     ]
    }
   ],
   "source": [
    "print(\"Positive: \", x)\n",
    "print(\"Negative: \", y)\n",
    "print(\"Neutral: \", z)"
   ]
  },
  {
   "cell_type": "markdown",
   "metadata": {},
   "source": [
    "## Visualization of data"
   ]
  },
  {
   "cell_type": "code",
   "execution_count": 80,
   "metadata": {},
   "outputs": [
    {
     "data": {
      "image/png": "[encoded data removed]",
      "text/plain": [
       "<Figure size 432x288 with 1 Axes>"
      ]
     },
     "metadata": {},
     "output_type": "display_data"
    },
    {
     "data": {
      "text/plain": [
       "<Figure size 1440x1296 with 0 Axes>"
      ]
     },
     "metadata": {},
     "output_type": "display_data"
    }
   ],
   "source": [
    "x = [\"Positve\", \"Negative\", \"Neutral\"]\n",
    "y=[19221,9940, 135779]\n",
    "\n",
    "plt.bar(x, y, color=['g', 'r','brown'], edgecolor=\"black\")\n",
    "plt.title('Tweets sentiment Analysis', fontsize=16)\n",
    "plt.ylabel(\"count\", fontsize=13)\n",
    "plt.xlabel(\"tweets behavior\", fontsize=13)\n",
    "plt.xticks(rotation=45,fontsize=11)\n",
    "plt.yticks(fontsize=11)\n",
    "plt.figure(figsize=(20,18))\n",
    "style.use('fivethirtyeight')\n",
    "plt.show()   "
   ]
  },
  {
   "cell_type": "code",
   "execution_count": 81,
   "metadata": {},
   "outputs": [
    {
     "data": {
      "image/png": "[encoded data removed]",
      "text/plain": [
       "<Figure size 432x288 with 1 Axes>"
      ]
     },
     "metadata": {},
     "output_type": "display_data"
    }
   ],
   "source": [
    "plt.style.use(\"fivethirtyeight\")\n",
    "slices = [19221,9940, 135779]\n",
    "labels = [\"Positve\", \"Negative\", \"Neutral\"]\n",
    "explode=(0.1, 0,0)\n",
    "plt.pie(slices, explode=explode,labels=labels, autopct='%.2f%%', shadow=True, startangle=90)\n",
    "plt.title('Tweets sentiment Analysis')\n",
    "plt.axis('equal')\n",
    "plt.legend(loc='upper right')\n",
    "plt.style.use('ggplot')\n",
    "plt.show()"
   ]
  },
  {
   "cell_type": "code",
   "execution_count": null,
   "metadata": {},
   "outputs": [],
   "source": []
  },
  {
   "cell_type": "code",
   "execution_count": null,
   "metadata": {},
   "outputs": [],
   "source": []
  },
  {
   "cell_type": "code",
   "execution_count": null,
   "metadata": {},
   "outputs": [],
   "source": []
  },
  {
   "cell_type": "code",
   "execution_count": null,
   "metadata": {},
   "outputs": [],
   "source": []
  }
 ],
 "metadata": {
  "kernelspec": {
   "display_name": "Python 3",
   "language": "python",
   "name": "python3"
  },
  "language_info": {
   "codemirror_mode": {
    "name": "ipython",
    "version": 3
   },
   "file_extension": ".py",
   "mimetype": "text/x-python",
   "name": "python",
   "nbconvert_exporter": "python",
   "pygments_lexer": "ipython3",
   "version": "3.7.4"
  }
 },
 "nbformat": 4,
 "nbformat_minor": 2
}
